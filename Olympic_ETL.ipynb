{
 "cells": [
  {
   "cell_type": "markdown",
   "id": "7bb1c68f",
   "metadata": {},
   "source": [
    "# Olympic Results and Country GDP and Popluation Data "
   ]
  },
  {
   "cell_type": "markdown",
   "id": "a6435fb3",
   "metadata": {},
   "source": [
    "## Overview\n",
    "\n",
    "#### This notebook contains the python code to populate a database that contains tables: 1. olympic_data; 2. athlete_data; 3. country_data.  The data for these tables comes from csv files containing olympic results from 120 years of Olympic Games and world population and GDP data.\n",
    "\n",
    "* Olypmic and Athlete data comes from two csv files (athlete_events.csv and noc_regions.csv)found at: https://www.kaggle.com/datasets/heesoo37/120-years-of-olympic-history-athletes-and-results?resource=download\n",
    "\n",
    "* World Population data comes from one csv file (Population.csv) found at: https://data.worldbank.org/indicator/SP.POP.TOTL\n",
    "\n",
    "* World GDP data comes from one csv file (GDP.csv) found at: https://data.worldbank.org/indicator/NY.GDP.MKTP.CD?end=2021&start=1960\n",
    "\n",
    "#### *Please note that you need to have created the database and tables prior to running this notebook to load the data"
   ]
  },
  {
   "cell_type": "code",
   "execution_count": 1,
   "id": "c5a32215",
   "metadata": {},
   "outputs": [],
   "source": [
    "import pandas as pd\n",
    "from sqlalchemy import create_engine, inspect\n",
    "import numpy as np"
   ]
  },
  {
   "cell_type": "markdown",
   "id": "1d731c53",
   "metadata": {},
   "source": [
    "## Extract\n",
    "\n",
    "#### Each of the 4 csv files (athlete_events.csv, noc_regions.csv, Population.csv, GDP.csv) in the Resources folder is extracted into a dataframe using pd.read_csv\n"
   ]
  },
  {
   "cell_type": "code",
   "execution_count": 2,
   "id": "32137dcd",
   "metadata": {},
   "outputs": [],
   "source": [
    "#Extract athlete_events.csv into olympic_df dataframe\n",
    "olympic_file = \"../Resources/athlete_events.csv\"\n",
    "olympic_df = pd.read_csv(olympic_file)"
   ]
  },
  {
   "cell_type": "code",
   "execution_count": 3,
   "id": "16623a78",
   "metadata": {},
   "outputs": [],
   "source": [
    "#Extract noc_regions.csv into country_df dataframe\n",
    "country_file = \"../Resources/noc_regions.csv\"\n",
    "country_df = pd.read_csv(country_file)"
   ]
  },
  {
   "cell_type": "code",
   "execution_count": 4,
   "id": "99327516",
   "metadata": {},
   "outputs": [],
   "source": [
    "#Extract Population.csv into pop_df dataframe\n",
    "pop_file = \"Resources/Population.csv\"\n",
    "pop_df = pd.read_csv(pop_file, skiprows=4)"
   ]
  },
  {
   "cell_type": "code",
   "execution_count": 5,
   "id": "5db749fd",
   "metadata": {},
   "outputs": [],
   "source": [
    "#Extract GDP.csv into gdp_df dataframe\n",
    "gdp_file = \"Resources/GDP.csv\"\n",
    "gdp_df = pd.read_csv(gdp_file, skiprows=4)"
   ]
  },
  {
   "cell_type": "markdown",
   "id": "e7ef357a",
   "metadata": {},
   "source": [
    "## Transform\n",
    "\n",
    "#### Transform each of the 4 dataframes to reduce columns, replace null values, merge data and ultimately get it into the format needed for loading to the database."
   ]
  },
  {
   "cell_type": "markdown",
   "id": "0cb919b2",
   "metadata": {},
   "source": [
    "### 1. Transform Olympic DataFrame to athlete data for athlete_data table\n",
    "* Reduce columns to ID, Sex, Age\n",
    "* Rename columns\n",
    "    * ID to athlete_id\n",
    "    * All changed to lower case"
   ]
  },
  {
   "cell_type": "code",
   "execution_count": 15,
   "id": "7349155e",
   "metadata": {},
   "outputs": [],
   "source": [
    "# Create a filtered dataframe from specific columns for the Athlete_Data Table\n",
    "athlete_cols = [\"ID\", \"Sex\", \"Age\"]\n",
    "athlete_transformed= olympic_df[athlete_cols].copy()\n",
    "\n",
    "# Rename the column headers\n",
    "athlete_transformed = athlete_transformed.rename(columns={\"ID\": \"athlete_id\",\n",
    "                                                          \"Sex\": \"sex\",\n",
    "                                                          \"Age\": \"age\"})\n",
    "\n",
    "# Clean the data by dropping duplicates and setting the index\n",
    "athlete_transformed.drop_duplicates(\"athlete_id\", inplace=True)\n",
    "athlete_transformed.fillna(0, inplace=True)\n"
   ]
  },
  {
   "cell_type": "markdown",
   "id": "35777fbd",
   "metadata": {},
   "source": [
    "### 2. Transform: Olympic DataFrame and Country DataFrame to load to olympic_data table\n",
    "* Reduce columns to ID, Year, Season, Sport, Event, Medal, NOC\n",
    "* Rename columns \n",
    "    * ID to athlete_id\n",
    "    * All changed to lower case"
   ]
  },
  {
   "cell_type": "code",
   "execution_count": 7,
   "id": "71782b5b",
   "metadata": {},
   "outputs": [],
   "source": [
    "##### Transform Olympic DataFrame #####\n",
    "\n",
    "# Create a filtered dataframe from specific columns for the Olympic_Data Table\n",
    "olympic_cols = [\"ID\", \"Year\", \"Season\", \"Sport\", \"Event\", \"Medal\", \"NOC\"]\n",
    "olympic_transformed= olympic_df[olympic_cols].copy()\n",
    "\n",
    "# Rename the column headers\n",
    "olympic_transformed = olympic_transformed.rename(columns={\"ID\": \"athlete_id\",\n",
    "                                                          \"Year\": \"year\",\n",
    "                                                          \"Season\": \"season\",\n",
    "                                                          \"Sport\": \"sport\",\n",
    "                                                          \"Event\": \"event\",\n",
    "                                                          \"Medal\": \"medal\"})\n",
    "\n",
    "#Replace medal NaN to none\n",
    "olympic_transformed.fillna('None', inplace=True)\n",
    "\n",
    "##### Transform country DataFrame #####\n",
    "\n",
    "# Create a filtered dataframe from specific columns needed to add the country to olympic_data Table\n",
    "country_cols = [\"NOC\", \"region\"]\n",
    "country_transformed = country_df[country_cols].copy()\n",
    "\n",
    "# Rename the column headers\n",
    "country_transformed = country_transformed.rename(columns={\"region\": \"country\"})\n",
    "country_transformed.head()\n",
    "\n",
    "##### Replace NOC in Olympic Dataset with Country #####\n",
    "olympic_m_df = olympic_transformed.merge(country_transformed, on='NOC')\n",
    "olympic_m_df.drop('NOC', axis=1, inplace=True)\n",
    "\n",
    "#Replace country NaN to unkown\n",
    "olympic_m_df.fillna('unkown', inplace=True)\n"
   ]
  },
  {
   "cell_type": "markdown",
   "id": "d6b009ce",
   "metadata": {},
   "source": [
    "#### Transform: Country Population and Country GDP"
   ]
  },
  {
   "cell_type": "code",
   "execution_count": 8,
   "id": "41beae9d",
   "metadata": {},
   "outputs": [
    {
     "data": {
      "text/plain": [
       "16387"
      ]
     },
     "execution_count": 8,
     "metadata": {},
     "output_type": "execute_result"
    }
   ],
   "source": [
    "##### Country Population #####\n",
    "\n",
    "# eliminate unused columns\n",
    "pop_df.drop(columns=['Country Code', 'Indicator Name', 'Indicator Code'], inplace=True)\n",
    "\n",
    "# rename columns to what will be used in the database\n",
    "pop_df.rename(columns={'Country Name' : 'country'}, inplace=True)\n",
    "\n",
    "# get all the column names\n",
    "cols = pop_df.columns.values.tolist()\n",
    "\n",
    "# drop the country column name\n",
    "cols.pop(0)\n",
    "\n",
    "# convert all the year columns into rows\n",
    "pop_m_df = pop_df.melt(id_vars = 'country', value_vars = cols, var_name = 'year')\n",
    "\n",
    "pop_m_df.head()\n",
    "\n",
    "pop_m_df.rename(columns={'value' : 'population'}, inplace=True)\n",
    "\n",
    "# eliminate any empty values\n",
    "cleaned_pop_df = pop_m_df.dropna()\n"
   ]
  },
  {
   "cell_type": "code",
   "execution_count": 9,
   "id": "ae51de24",
   "metadata": {},
   "outputs": [
    {
     "data": {
      "text/plain": [
       "13118"
      ]
     },
     "execution_count": 9,
     "metadata": {},
     "output_type": "execute_result"
    }
   ],
   "source": [
    "##### Country GDP #####\n",
    "\n",
    "# eliminate unused columns\n",
    "gdp_df.drop(columns=['Country Code', 'Indicator Name', 'Indicator Code'], inplace=True)\n",
    "\n",
    "# rename columns to what will be used in the database\n",
    "gdp_df.rename(columns={'Country Name' : 'country'}, inplace=True)\n",
    "\n",
    "# get all the column names\n",
    "cols = gdp_df.columns.values.tolist()\n",
    "\n",
    "# drop the country column name\n",
    "cols.pop(0)\n",
    "\n",
    "# convert all the year columns into rows\n",
    "gdp_m_df = gdp_df.melt(id_vars = 'country', value_vars = cols, var_name = 'year')\n",
    "\n",
    "gdp_m_df.rename(columns={'value' : 'gdp'}, inplace=True)\n",
    "\n",
    "gdp_m_df.head()\n",
    "\n",
    "cleaned_gdp_df = gdp_m_df.dropna()\n"
   ]
  },
  {
   "cell_type": "code",
   "execution_count": 10,
   "id": "0f04ad39",
   "metadata": {},
   "outputs": [],
   "source": [
    "##### Merge Population and GDP Dataframes #####\n",
    "\n",
    "# merge dataframes keeping only rows that have the same country and year and adding the remaining columns\n",
    "merged_country_df = pd.merge(cleaned_gdp_df,cleaned_pop_df, how=\"inner\", on=['country','year'])"
   ]
  },
  {
   "cell_type": "markdown",
   "id": "f73e7930",
   "metadata": {},
   "source": [
    "## Load DataFrames into database"
   ]
  },
  {
   "cell_type": "code",
   "execution_count": 11,
   "id": "5eb3c449",
   "metadata": {},
   "outputs": [
    {
     "data": {
      "text/plain": [
       "['olympic_data', 'athlete_data', 'country_data']"
      ]
     },
     "execution_count": 11,
     "metadata": {},
     "output_type": "execute_result"
    }
   ],
   "source": [
    "##### Create Database Connection #####\n",
    "\n",
    "protocol = 'postgresql'\n",
    "username = 'postgres'\n",
    "password = 'bootcamp'\n",
    "host = 'localhost'\n",
    "port = 5432\n",
    "database_name = 'olympic_db'\n",
    "rds_connection_string = f'{protocol}://{username}:{password}@{host}:{port}/{database_name}'\n",
    "engine = create_engine(rds_connection_string)\n",
    "\n",
    "inspector = inspect(engine)\n",
    "inspector.get_table_names()"
   ]
  },
  {
   "cell_type": "code",
   "execution_count": 12,
   "id": "093b214c",
   "metadata": {},
   "outputs": [
    {
     "data": {
      "text/plain": [
       "767"
      ]
     },
     "execution_count": 12,
     "metadata": {},
     "output_type": "execute_result"
    }
   ],
   "source": [
    "#Upload to olympic_data\n",
    "olympic_m_df.to_sql(name='olympic_data', con=engine, if_exists='append', index=False)"
   ]
  },
  {
   "cell_type": "code",
   "execution_count": 13,
   "id": "02e585f9",
   "metadata": {},
   "outputs": [
    {
     "data": {
      "text/plain": [
       "571"
      ]
     },
     "execution_count": 13,
     "metadata": {},
     "output_type": "execute_result"
    }
   ],
   "source": [
    "#Upload to athlete_data\n",
    "athlete_transformed.to_sql(name='athlete_data', con=engine, if_exists='append', index=False)"
   ]
  },
  {
   "cell_type": "code",
   "execution_count": 14,
   "id": "0487ce68",
   "metadata": {},
   "outputs": [
    {
     "data": {
      "text/plain": [
       "115"
      ]
     },
     "execution_count": 14,
     "metadata": {},
     "output_type": "execute_result"
    }
   ],
   "source": [
    "#Upload to country_data\n",
    "merged_country_df.to_sql(name='country_data', con=engine, if_exists='append', index=False)"
   ]
  },
  {
   "cell_type": "code",
   "execution_count": null,
   "id": "53851450",
   "metadata": {},
   "outputs": [],
   "source": []
  }
 ],
 "metadata": {
  "kernelspec": {
   "display_name": "Python 3 (ipykernel)",
   "language": "python",
   "name": "python3"
  },
  "language_info": {
   "codemirror_mode": {
    "name": "ipython",
    "version": 3
   },
   "file_extension": ".py",
   "mimetype": "text/x-python",
   "name": "python",
   "nbconvert_exporter": "python",
   "pygments_lexer": "ipython3",
   "version": "3.8.13"
  }
 },
 "nbformat": 4,
 "nbformat_minor": 5
}
