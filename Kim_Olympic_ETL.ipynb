{
 "cells": [
  {
   "cell_type": "code",
   "execution_count": null,
   "id": "c5a32215",
   "metadata": {},
   "outputs": [],
   "source": [
    "import pandas as pd\n",
    "from sqlalchemy import create_engine, inspect"
   ]
  },
  {
   "cell_type": "markdown",
   "id": "1d731c53",
   "metadata": {},
   "source": [
    "### Extract CSVs into DataFrames"
   ]
  },
  {
   "cell_type": "code",
   "execution_count": null,
   "id": "32137dcd",
   "metadata": {},
   "outputs": [],
   "source": [
    "olympic_file = \"../Resources/athlete_events.csv\"\n",
    "olympic_df = pd.read_csv(olympic_file)\n",
    "olympic_df.head()"
   ]
  },
  {
   "cell_type": "code",
   "execution_count": null,
   "id": "16623a78",
   "metadata": {},
   "outputs": [],
   "source": [
    "country_file = \"../Resources/noc_regions.csv\"\n",
    "country_df = pd.read_csv(country_file)\n",
    "country_df.head()"
   ]
  },
  {
   "cell_type": "markdown",
   "id": "35777fbd",
   "metadata": {},
   "source": [
    "### Transform Olympic DataFrame - TODO"
   ]
  },
  {
   "cell_type": "code",
   "execution_count": null,
   "id": "71782b5b",
   "metadata": {},
   "outputs": [],
   "source": [
    "# Create a filtered dataframe from specific columns\n",
    "olympic_df = [\"License Serial Number\", \"Premises Name\", \"County ID Code\"]\n",
    "olympic_transformed= premise_df[premise_cols].copy()\n",
    "\n",
    "# Rename the column headers\n",
    "olympic_transformed = premise_transformed.rename(columns={\"License Serial Number\": \"id\",\n",
    "                                                          \"Premises Name\": \"premise_name\",\n",
    "                                                          \"County ID Code\": \"county_id\"})\n",
    "\n",
    "# Clean the data by dropping duplicates and setting the index\n",
    "olympic_transformed.drop_duplicates(\"id\", inplace=True)\n",
    "olympic_transformed.set_index(\"id\", inplace=True)\n",
    "\n",
    "olympic_transformed.head()"
   ]
  },
  {
   "cell_type": "markdown",
   "id": "882ab34d",
   "metadata": {},
   "source": [
    "### Transform country DataFrame - TODO"
   ]
  },
  {
   "cell_type": "code",
   "execution_count": null,
   "id": "e76652f6",
   "metadata": {},
   "outputs": [],
   "source": [
    "country_df = [\"ID\", \"County Name (Licensee)\", \"County ID Code\", \"License Count\"]\n",
    "country_transformed = county_df[county_cols].copy()\n",
    "\n",
    "# Rename the column headers\n",
    "country_transformed = county_transformed.rename(columns={\"ID\": \"id\",\n",
    "                                                         \"County Name (Licensee)\": \"county_name\",\n",
    "                                                         \"License Count\": \"license_count\",\n",
    "                                                         \"County ID Code\": \"county_id\"})\n",
    "\n",
    "# Set index\n",
    "country_transformed.set_index(\"id\", inplace=True)\n",
    "\n",
    "country_transformed.head()"
   ]
  },
  {
   "cell_type": "markdown",
   "id": "8c551468",
   "metadata": {},
   "source": [
    "### Replace NOC in Olympic Dataset with Country - TODO"
   ]
  },
  {
   "cell_type": "code",
   "execution_count": null,
   "id": "d92f4d18",
   "metadata": {},
   "outputs": [],
   "source": []
  },
  {
   "cell_type": "markdown",
   "id": "ac7e868b",
   "metadata": {},
   "source": [
    "### Create database connection"
   ]
  },
  {
   "cell_type": "code",
   "execution_count": null,
   "id": "5eb3c449",
   "metadata": {},
   "outputs": [],
   "source": [
    "protocol = 'postgresql'\n",
    "username = 'postgres'\n",
    "password = 'bootcamp'\n",
    "host = 'localhost'\n",
    "port = 5432\n",
    "database_name = 'Olympic_db'\n",
    "rds_connection_string = f'{protocol}://{username}:{password}@{host}:{port}/{database_name}'\n",
    "engine = create_engine(rds_connection_string)"
   ]
  },
  {
   "cell_type": "code",
   "execution_count": null,
   "id": "0294b75e",
   "metadata": {},
   "outputs": [],
   "source": [
    "# Confirm tables\n",
    "inspector = inspect(engine)\n",
    "inspector.get_table_names()"
   ]
  },
  {
   "cell_type": "markdown",
   "id": "f73e7930",
   "metadata": {},
   "source": [
    "### Load DataFrames into database"
   ]
  },
  {
   "cell_type": "code",
   "execution_count": null,
   "id": "093b214c",
   "metadata": {},
   "outputs": [],
   "source": [
    "olympic_country_transformed.to_sql(name='Olympic_Data', con=engine, if_exists='append', index=True)"
   ]
  },
  {
   "cell_type": "code",
   "execution_count": null,
   "id": "02e585f9",
   "metadata": {},
   "outputs": [],
   "source": []
  }
 ],
 "metadata": {
  "kernelspec": {
   "display_name": "Python 3 (ipykernel)",
   "language": "python",
   "name": "python3"
  },
  "language_info": {
   "codemirror_mode": {
    "name": "ipython",
    "version": 3
   },
   "file_extension": ".py",
   "mimetype": "text/x-python",
   "name": "python",
   "nbconvert_exporter": "python",
   "pygments_lexer": "ipython3",
   "version": "3.8.13"
  }
 },
 "nbformat": 4,
 "nbformat_minor": 5
}
