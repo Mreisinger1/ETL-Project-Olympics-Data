{
 "cells": [
  {
   "cell_type": "code",
   "execution_count": null,
   "id": "c68ca5a8",
   "metadata": {},
   "outputs": [],
   "source": [
    "import pandas as pd\n",
    "from sqlalchemy import create_engine, inspect"
   ]
  },
  {
   "cell_type": "markdown",
   "id": "d7773cb3",
   "metadata": {},
   "source": [
    "### Extract CSVs into DataFrames"
   ]
  },
  {
   "cell_type": "code",
   "execution_count": null,
   "id": "349c1937",
   "metadata": {},
   "outputs": [],
   "source": [
    "# Country Population\n",
    "pop_file = \"Resources/Population.csv\"\n",
    "pop_df = pd.read_csv(pop_file, skiprows=4)"
   ]
  },
  {
   "cell_type": "code",
   "execution_count": null,
   "id": "91f4b355",
   "metadata": {},
   "outputs": [],
   "source": [
    "# Country GDP\n",
    "gdp_file = \"Resources/GDP.csv\"\n",
    "gdp_df = pd.read_csv(gdp_file, skiprows=4)"
   ]
  },
  {
   "cell_type": "code",
   "execution_count": null,
   "id": "718cb3d6",
   "metadata": {},
   "outputs": [],
   "source": [
    "# Olympic Data"
   ]
  },
  {
   "cell_type": "markdown",
   "id": "4fb36b9e",
   "metadata": {},
   "source": [
    "### Transform DataFrames"
   ]
  },
  {
   "cell_type": "code",
   "execution_count": null,
   "id": "796df7a6",
   "metadata": {},
   "outputs": [],
   "source": [
    "# Country Population"
   ]
  },
  {
   "cell_type": "code",
   "execution_count": null,
   "id": "4ed2cc3e",
   "metadata": {},
   "outputs": [],
   "source": [
    "# eliminate unused columns\n",
    "pop_df.drop(columns=['Country Code', 'Indicator Name', 'Indicator Code'], inplace=True)"
   ]
  },
  {
   "cell_type": "code",
   "execution_count": null,
   "id": "0845c7c3",
   "metadata": {},
   "outputs": [],
   "source": [
    "# rename columns to what will be used in the database\n",
    "pop_df.rename(columns={'Country Name' : 'country'}, inplace=True)"
   ]
  },
  {
   "cell_type": "code",
   "execution_count": null,
   "id": "26dbe47a",
   "metadata": {},
   "outputs": [],
   "source": [
    "# get all the column names\n",
    "cols = pop_df.columns.values.tolist()"
   ]
  },
  {
   "cell_type": "code",
   "execution_count": null,
   "id": "c63a1041",
   "metadata": {},
   "outputs": [],
   "source": [
    "# drop the country column name\n",
    "cols.pop(0)"
   ]
  },
  {
   "cell_type": "code",
   "execution_count": null,
   "id": "5ee702c0",
   "metadata": {},
   "outputs": [],
   "source": [
    "# convert all the year columns into rows\n",
    "pop_m_df = pop_df.melt(id_vars = 'country', value_vars = cols, var_name = 'year')"
   ]
  },
  {
   "cell_type": "code",
   "execution_count": null,
   "id": "7071fe6a",
   "metadata": {},
   "outputs": [],
   "source": [
    "pop_m_df.head()"
   ]
  },
  {
   "cell_type": "code",
   "execution_count": null,
   "id": "2dabf50a",
   "metadata": {},
   "outputs": [],
   "source": [
    "pop_m_df.rename(columns={'value' : 'population'}, inplace=True)"
   ]
  },
  {
   "cell_type": "code",
   "execution_count": null,
   "id": "aa65bf5e",
   "metadata": {},
   "outputs": [],
   "source": [
    "# eliminate any empty values\n",
    "cleaned_pop_df = pop_m_df.dropna()"
   ]
  },
  {
   "cell_type": "code",
   "execution_count": null,
   "id": "2df49c19",
   "metadata": {},
   "outputs": [],
   "source": [
    "len(cleaned_pop_df)"
   ]
  },
  {
   "cell_type": "code",
   "execution_count": null,
   "id": "20f9557e",
   "metadata": {},
   "outputs": [],
   "source": [
    "# Country GDP"
   ]
  },
  {
   "cell_type": "code",
   "execution_count": null,
   "id": "4cbba9e3",
   "metadata": {},
   "outputs": [],
   "source": [
    "# eliminate unused columns\n",
    "gdp_df.drop(columns=['Country Code', 'Indicator Name', 'Indicator Code'], inplace=True)"
   ]
  },
  {
   "cell_type": "code",
   "execution_count": null,
   "id": "f3e29aae",
   "metadata": {},
   "outputs": [],
   "source": [
    "# rename columns to what will be used in the database\n",
    "gdp_df.rename(columns={'Country Name' : 'country'}, inplace=True)"
   ]
  },
  {
   "cell_type": "code",
   "execution_count": null,
   "id": "3d7f152a",
   "metadata": {},
   "outputs": [],
   "source": [
    "# get all the column names\n",
    "cols = gdp_df.columns.values.tolist()"
   ]
  },
  {
   "cell_type": "code",
   "execution_count": null,
   "id": "ae01a959",
   "metadata": {},
   "outputs": [],
   "source": [
    "# drop the country column name\n",
    "cols.pop(0)"
   ]
  },
  {
   "cell_type": "code",
   "execution_count": null,
   "id": "77e2c20c",
   "metadata": {},
   "outputs": [],
   "source": [
    "# convert all the year columns into rows\n",
    "gdp_m_df = gdp_df.melt(id_vars = 'country', value_vars = cols, var_name = 'year')"
   ]
  },
  {
   "cell_type": "code",
   "execution_count": null,
   "id": "d6c6f3e6",
   "metadata": {},
   "outputs": [],
   "source": [
    "gdp_m_df.rename(columns={'value' : 'gdp'}, inplace=True)"
   ]
  },
  {
   "cell_type": "code",
   "execution_count": null,
   "id": "8bc1892c",
   "metadata": {},
   "outputs": [],
   "source": [
    "gdp_m_df.head()"
   ]
  },
  {
   "cell_type": "code",
   "execution_count": null,
   "id": "5326701c",
   "metadata": {},
   "outputs": [],
   "source": [
    "cleaned_gdp_df = gdp_m_df.dropna()"
   ]
  },
  {
   "cell_type": "code",
   "execution_count": null,
   "id": "0803a1fd",
   "metadata": {},
   "outputs": [],
   "source": [
    "len(cleaned_gdp_df)"
   ]
  },
  {
   "cell_type": "markdown",
   "id": "d299f32a",
   "metadata": {},
   "source": [
    "#### Merge the country dataframes"
   ]
  },
  {
   "cell_type": "code",
   "execution_count": null,
   "id": "77d4f1d4",
   "metadata": {},
   "outputs": [],
   "source": [
    "# merge dataframes keeping only rows that have the same country and year and adding the remaining columns\n",
    "merged_country_df = pd.merge(cleaned_gdp_df,cleaned_pop_df, how=\"inner\", on=['country','year'])"
   ]
  },
  {
   "cell_type": "code",
   "execution_count": null,
   "id": "b5796f0d",
   "metadata": {},
   "outputs": [],
   "source": [
    "# Olympic Data"
   ]
  },
  {
   "cell_type": "markdown",
   "id": "a025368a",
   "metadata": {},
   "source": [
    "### Create database connection"
   ]
  },
  {
   "cell_type": "code",
   "execution_count": null,
   "id": "726f8c60",
   "metadata": {},
   "outputs": [],
   "source": [
    "protocol = 'postgresql'\n",
    "username = 'postgres'\n",
    "password = 'bootcamp'\n",
    "host = 'localhost'\n",
    "port = 5432\n",
    "database_name = 'olympic_db'\n",
    "rds_connection_string = f'{protocol}://{username}:{password}@{host}:{port}/{database_name}'\n",
    "engine = create_engine(rds_connection_string)"
   ]
  },
  {
   "cell_type": "markdown",
   "id": "48e3bcac",
   "metadata": {},
   "source": [
    "### Load DataFrames into database"
   ]
  },
  {
   "cell_type": "code",
   "execution_count": null,
   "id": "19b5b943",
   "metadata": {},
   "outputs": [],
   "source": [
    "inspector = inspect(engine)\n",
    "inspector.get_table_names()"
   ]
  },
  {
   "cell_type": "code",
   "execution_count": null,
   "id": "d3ee5e8f",
   "metadata": {},
   "outputs": [],
   "source": [
    "merged_country_df.to_sql(name='country_data', con=engine, if_exists='append', index=False)"
   ]
  },
  {
   "cell_type": "code",
   "execution_count": null,
   "id": "52e85210",
   "metadata": {},
   "outputs": [],
   "source": []
  }
 ],
 "metadata": {
  "kernelspec": {
   "display_name": "Python 3 (ipykernel)",
   "language": "python",
   "name": "python3"
  },
  "language_info": {
   "codemirror_mode": {
    "name": "ipython",
    "version": 3
   },
   "file_extension": ".py",
   "mimetype": "text/x-python",
   "name": "python",
   "nbconvert_exporter": "python",
   "pygments_lexer": "ipython3",
   "version": "3.8.13"
  }
 },
 "nbformat": 4,
 "nbformat_minor": 5
}
